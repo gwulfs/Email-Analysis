{
 "metadata": {
  "name": "",
  "signature": "sha256:77292f9ebd0c796cea292ca239b4cf542fdbcbfe715ff2ca8dbb34606f590d19"
 },
 "nbformat": 3,
 "nbformat_minor": 0,
 "worksheets": [
  {
   "cells": [
    {
     "cell_type": "code",
     "collapsed": false,
     "input": [
      "import pandas as pd"
     ],
     "language": "python",
     "metadata": {},
     "outputs": [],
     "prompt_number": 2
    },
    {
     "cell_type": "code",
     "collapsed": false,
     "input": [
      "df = pd.read_json('counts/email.json')"
     ],
     "language": "python",
     "metadata": {},
     "outputs": [],
     "prompt_number": 3
    },
    {
     "cell_type": "markdown",
     "metadata": {},
     "source": [
      "remove empty emails"
     ]
    },
    {
     "cell_type": "code",
     "collapsed": false,
     "input": [
      "emails = []\n",
      "for email in df.body:\n",
      "    if email != []:\n",
      "        emails.append(email)"
     ],
     "language": "python",
     "metadata": {},
     "outputs": [],
     "prompt_number": 4
    },
    {
     "cell_type": "code",
     "collapsed": false,
     "input": [
      "num_emails = len(emails)"
     ],
     "language": "python",
     "metadata": {},
     "outputs": [],
     "prompt_number": 5
    },
    {
     "cell_type": "markdown",
     "metadata": {},
     "source": [
      "split emails at halfway point (by num sent, not time)"
     ]
    },
    {
     "cell_type": "code",
     "collapsed": false,
     "input": [
      "old = []\n",
      "new = []\n",
      "counter = 0\n",
      "for email in emails:\n",
      "    if counter < num_emails/2:\n",
      "        old.append({'old': True, 'title': email['content']})\n",
      "    else:\n",
      "        new.append({'old': False, 'title': email['content']})\n",
      "    counter += 1"
     ],
     "language": "python",
     "metadata": {},
     "outputs": [],
     "prompt_number": 6
    },
    {
     "cell_type": "code",
     "collapsed": false,
     "input": [
      "df = pd.DataFrame.from_records(old + new)"
     ],
     "language": "python",
     "metadata": {},
     "outputs": [],
     "prompt_number": 7
    },
    {
     "cell_type": "code",
     "collapsed": false,
     "input": [
      "df.tail()"
     ],
     "language": "python",
     "metadata": {},
     "outputs": [
      {
       "html": [
        "<div style=\"max-height:1000px;max-width:1500px;overflow:auto;\">\n",
        "<table border=\"1\" class=\"dataframe\">\n",
        "  <thead>\n",
        "    <tr style=\"text-align: right;\">\n",
        "      <th></th>\n",
        "      <th>old</th>\n",
        "      <th>title</th>\n",
        "    </tr>\n",
        "  </thead>\n",
        "  <tbody>\n",
        "    <tr>\n",
        "      <th>2191</th>\n",
        "      <td> False</td>\n",
        "      <td> Can you please call wells fargo on wednesday t...</td>\n",
        "    </tr>\n",
        "    <tr>\n",
        "      <th>2192</th>\n",
        "      <td> False</td>\n",
        "      <td> Hey Haley,\\r\\n\\r\\nI would like to travel from ...</td>\n",
        "    </tr>\n",
        "    <tr>\n",
        "      <th>2193</th>\n",
        "      <td> False</td>\n",
        "      <td> thanks!\\r\\n\\r\\nhttp://fivethirtyeight.com/feat...</td>\n",
        "    </tr>\n",
        "    <tr>\n",
        "      <th>2194</th>\n",
        "      <td> False</td>\n",
        "      <td> I can do friday the 26th after 12:30. Let me k...</td>\n",
        "    </tr>\n",
        "    <tr>\n",
        "      <th>2195</th>\n",
        "      <td> False</td>\n",
        "      <td> Would you be able to come for a workshop on we...</td>\n",
        "    </tr>\n",
        "  </tbody>\n",
        "</table>\n",
        "</div>"
       ],
       "metadata": {},
       "output_type": "pyout",
       "prompt_number": 8,
       "text": [
        "        old                                              title\n",
        "2191  False  Can you please call wells fargo on wednesday t...\n",
        "2192  False  Hey Haley,\\r\\n\\r\\nI would like to travel from ...\n",
        "2193  False  thanks!\\r\\n\\r\\nhttp://fivethirtyeight.com/feat...\n",
        "2194  False  I can do friday the 26th after 12:30. Let me k...\n",
        "2195  False  Would you be able to come for a workshop on we..."
       ]
      }
     ],
     "prompt_number": 8
    },
    {
     "cell_type": "code",
     "collapsed": false,
     "input": [
      "import numpy as np\n",
      "from sklearn.feature_extraction.text import CountVectorizer\n",
      "from sklearn import cross_validation, naive_bayes"
     ],
     "language": "python",
     "metadata": {},
     "outputs": [],
     "prompt_number": 70
    },
    {
     "cell_type": "markdown",
     "metadata": {},
     "source": [
      "vectorize"
     ]
    },
    {
     "cell_type": "code",
     "collapsed": false,
     "input": [
      "vectorizer = CountVectorizer(min_df=5, max_df=.3, ngram_range=(1,2))\n",
      "X = vectorizer.fit_transform(df.title)\n",
      "X = X.tocsc()\n",
      "Y = df.old.values.astype(np.int)"
     ],
     "language": "python",
     "metadata": {},
     "outputs": [],
     "prompt_number": 71
    },
    {
     "cell_type": "markdown",
     "metadata": {},
     "source": [
      "train"
     ]
    },
    {
     "cell_type": "code",
     "collapsed": false,
     "input": [
      "X_train, X_test, Y_train, Y_test = cross_validation.train_test_split(X,Y)"
     ],
     "language": "python",
     "metadata": {},
     "outputs": [],
     "prompt_number": 72
    },
    {
     "cell_type": "code",
     "collapsed": false,
     "input": [
      "clf = naive_bayes.MultinomialNB(fit_prior=False, alpha=0.5)\n",
      "clf.fit(X_train, Y_train)"
     ],
     "language": "python",
     "metadata": {},
     "outputs": [
      {
       "metadata": {},
       "output_type": "pyout",
       "prompt_number": 73,
       "text": [
        "MultinomialNB(alpha=0.5, class_prior=None, fit_prior=False)"
       ]
      }
     ],
     "prompt_number": 73
    },
    {
     "cell_type": "code",
     "collapsed": false,
     "input": [
      "print \"Accuracy: %0.2f%%\" % (100 * clf.score(X_test, Y_test))"
     ],
     "language": "python",
     "metadata": {},
     "outputs": [
      {
       "output_type": "stream",
       "stream": "stdout",
       "text": [
        "Accuracy: 90.89%\n"
       ]
      }
     ],
     "prompt_number": 74
    },
    {
     "cell_type": "code",
     "collapsed": false,
     "input": [
      "import numpy as np\n",
      "words = np.array(vectorizer.get_feature_names())\n",
      "\n",
      "x = np.eye(X_test.shape[1])\n",
      "probs = clf.predict_log_proba(x)[:, 0]\n",
      "ind = np.argsort(probs)\n",
      "\n",
      "good_words = words[ind[:10]]\n",
      "bad_words = words[ind[-10:]]\n",
      "\n",
      "good_prob = probs[ind[:10]]\n",
      "bad_prob = probs[ind[-10:]]\n",
      "\n",
      "print \"Old words\\t P(old| word)\"\n",
      "for w, p in zip(good_words, good_prob):\n",
      "    print \"%20s\" % w, \"%0.2f\" % (1 - np.exp(p))\n",
      "    \n",
      "print \"New words\\t P(new | word)\"\n",
      "for w, p in zip(bad_words, bad_prob):\n",
      "    print \"%20s\" % w, \"%0.2f\" % (1 - np.exp(p))"
     ],
     "language": "python",
     "metadata": {},
     "outputs": [
      {
       "output_type": "stream",
       "stream": "stdout",
       "text": [
        "Old words\t P(old| word)\n",
        "             2012 at 1.00\n",
        "           henderson 1.00\n",
        "hendersonfrederick com 1.00\n",
        "  hendersonfrederick 1.00\n",
        " katherine henderson 1.00\n",
        "katherine hendersonfrederick 1.00\n",
        "        avenue suite 1.00\n",
        "           2013 time 1.00\n",
        "             airways 1.00\n",
        "             31 2012 1.00\n",
        "New words\t P(new | word)\n",
        "        data science 0.00\n",
        "            sep 2014 0.00\n",
        "           haberland 0.00\n",
        "              aug 12 0.00\n",
        "     insidesales com 0.00\n",
        "         insidesales 0.00\n",
        "             12 2014 0.00\n",
        "                 tal 0.00\n",
        "                elan 0.00\n",
        "             2014 at 0.00\n"
       ]
      }
     ],
     "prompt_number": 75
    },
    {
     "cell_type": "code",
     "collapsed": false,
     "input": [
      "import numpy as np\n",
      "words = np.array(vectorizer.get_feature_names())\n",
      "\n",
      "x = np.eye(X_test.shape[1])\n",
      "probs = clf.predict_log_proba(x)[:, 0]\n",
      "ind = np.argsort(probs)\n",
      "\n",
      "old_words = words[ind[:10]]\n",
      "new_words = words[ind[-10:]]\n",
      "\n",
      "old_prob = probs[ind[:10]]\n",
      "new_prob = probs[ind[-10:]]\n",
      "\n",
      "print \"Old words\\t P(old | word)\"\n",
      "for w, p in zip(old_words, old_prob):\n",
      "    print \"%20s\" % w, \"%0.2f\" % (1 - np.exp(p))\n",
      "    \n",
      "print \"New words\\t P(new | word)\"\n",
      "for w, p in zip(new_words, new_prob):\n",
      "    print \"%20s\" % w, \"%0.2f\" % (1 - np.exp(p))"
     ],
     "language": "python",
     "metadata": {},
     "outputs": [
      {
       "output_type": "stream",
       "stream": "stdout",
       "text": [
        "Old words\t P(old | word)\n",
        "             2012 at 1.00\n",
        "           henderson 1.00\n",
        "  hendersonfrederick 1.00\n",
        "hendersonfrederick com 1.00\n",
        " katherine henderson 1.00\n",
        "katherine hendersonfrederick 1.00\n",
        "        avenue suite 1.00\n",
        "                kaye 1.00\n",
        "      qigong4balance 1.00\n",
        "  qigong4balance com 1.00\n",
        "New words\t P(new | word)\n",
        "                kirk 0.00\n",
        "            sep 2014 0.00\n",
        "                  ly 0.00\n",
        "              aug 12 0.00\n",
        "     insidesales com 0.00\n",
        "         insidesales 0.00\n",
        "             12 2014 0.00\n",
        "                 tal 0.00\n",
        "                elan 0.00\n",
        "             2014 at 0.00\n"
       ]
      }
     ],
     "prompt_number": 61
    },
    {
     "cell_type": "markdown",
     "metadata": {},
     "source": [
      "What I got wrong"
     ]
    },
    {
     "cell_type": "code",
     "collapsed": false,
     "input": [
      "prob = clf.predict_proba(X)[:, 0]\n",
      "predict = clf.predict(X)\n",
      "\n",
      "bad_new = np.argsort(prob[Y == 0])[:5]\n",
      "bad_old = np.argsort(prob[Y == 1])[-5:]\n",
      "\n",
      "print \"Mis-predicted New quotes\"\n",
      "print '---------------------------'\n",
      "for row in bad_new:\n",
      "    print df[Y == 0].title.irow(row)\n",
      "    print\n",
      "\n",
      "print\n",
      "print \"Mis-predicted Old quotes\"\n",
      "print '--------------------------'\n",
      "for row in bad_old:\n",
      "    print df[Y == 1].title.irow(row)\n",
      "    print"
     ],
     "language": "python",
     "metadata": {},
     "outputs": [],
     "prompt_number": 1
    },
    {
     "cell_type": "code",
     "collapsed": false,
     "input": [],
     "language": "python",
     "metadata": {},
     "outputs": []
    }
   ],
   "metadata": {}
  }
 ]
}
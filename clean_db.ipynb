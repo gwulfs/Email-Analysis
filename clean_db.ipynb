{
 "metadata": {
  "name": "",
  "signature": "sha256:08b52e528981504a76a779b163a6227d90ec97201001225984fe5e0aa3347390"
 },
 "nbformat": 3,
 "nbformat_minor": 0,
 "worksheets": [
  {
   "cells": [
    {
     "cell_type": "code",
     "collapsed": false,
     "input": [
      "import psycopg2\n",
      "from db import DB\n",
      "import nltk\n",
      "import pandas as pd"
     ],
     "language": "python",
     "metadata": {},
     "outputs": [],
     "prompt_number": 1
    },
    {
     "cell_type": "code",
     "collapsed": false,
     "input": [
      "db = DB(username=\"zyzqsitwpscuzl\", password=\"Za9T1gQzw4ILHpixA6rArWRoS4\", hostname=\"ec2-23-21-170-57.compute-1.amazonaws.com\", dbtype=\"postgres\", dbname=\"d16bm0kv3bo13\")"
     ],
     "language": "python",
     "metadata": {},
     "outputs": [
      {
       "output_type": "stream",
       "stream": "stderr",
       "text": [
        "Refreshing schema. Please wait...done!\n"
       ]
      }
     ],
     "prompt_number": 2
    },
    {
     "cell_type": "code",
     "collapsed": false,
     "input": [
      "users = db.query(\"select * from email;\")\n",
      "results = db.query(\"select * from result;\")"
     ],
     "language": "python",
     "metadata": {},
     "outputs": [],
     "prompt_number": 3
    },
    {
     "cell_type": "code",
     "collapsed": false,
     "input": [
      "# users.id.tolist()"
     ],
     "language": "python",
     "metadata": {},
     "outputs": [],
     "prompt_number": 1
    },
    {
     "cell_type": "code",
     "collapsed": false,
     "input": [
      "accts = []\n",
      "for acct in users.email:\n",
      "    accts.append(acct)\n",
      "fdist_emails = nltk.FreqDist(accts)\n",
      "len(fdist_emails.items())"
     ],
     "language": "python",
     "metadata": {},
     "outputs": [
      {
       "metadata": {},
       "output_type": "pyout",
       "prompt_number": 4,
       "text": [
        "48"
       ]
      }
     ],
     "prompt_number": 4
    },
    {
     "cell_type": "code",
     "collapsed": false,
     "input": [
      "results = results.drop('trigram_skipgram_vectorized_words', 1)\n",
      "results = results.drop('trigram_skipgram_vectorized_month', 1)"
     ],
     "language": "python",
     "metadata": {},
     "outputs": [],
     "prompt_number": 5
    },
    {
     "cell_type": "code",
     "collapsed": false,
     "input": [
      "merged = pd.merge(users, results, left_on='id', right_on='email_id')"
     ],
     "language": "python",
     "metadata": {},
     "outputs": [],
     "prompt_number": 6
    },
    {
     "cell_type": "code",
     "collapsed": false,
     "input": [
      "total=merged.dropna(subset = ['bag_of_words_total', 'seasonal_affective_disorder', 'contextio_id'])\n",
      "total=total.dropna(axis=1,how='all')"
     ],
     "language": "python",
     "metadata": {},
     "outputs": [],
     "prompt_number": 7
    },
    {
     "cell_type": "code",
     "collapsed": false,
     "input": [
      "f = []\n",
      "t = []\n",
      "for result in total.seasonal_affective_disorder:\n",
      "    if result is False:\n",
      "        f.append('False')\n",
      "    elif result is True:\n",
      "        t.append('True')\n",
      "print len(f), 'False\\n'\n",
      "print len(t), 'True\\n'"
     ],
     "language": "python",
     "metadata": {},
     "outputs": [
      {
       "output_type": "stream",
       "stream": "stdout",
       "text": [
        "6 False\n",
        "\n",
        "6 True\n",
        "\n"
       ]
      }
     ],
     "prompt_number": 8
    },
    {
     "cell_type": "code",
     "collapsed": false,
     "input": [
      "male = []\n",
      "female = []\n",
      "with open('genders.txt', 'r') as f:\n",
      "    for line in f:\n",
      "        if(line.split()[1] == 'm'):\n",
      "            male.append(line.split()[0])\n",
      "        elif(line.split()[1] == 'f'):\n",
      "            female.append(line.split()[0])"
     ],
     "language": "python",
     "metadata": {},
     "outputs": [],
     "prompt_number": 9
    },
    {
     "cell_type": "code",
     "collapsed": false,
     "input": [
      "for indx, row in total.iterrows():\n",
      "    if total.gender[indx] is None:\n",
      "        if row['email'] in male:\n",
      "            total.gender[indx] = 'm'\n",
      "        elif row['email'] in female:\n",
      "            total.gender[indx] = 'f'"
     ],
     "language": "python",
     "metadata": {},
     "outputs": [],
     "prompt_number": 10
    },
    {
     "cell_type": "code",
     "collapsed": false,
     "input": [
      "for indx, row in total.iterrows():\n",
      "    if row['gender'] is None:\n",
      "        print row['email']"
     ],
     "language": "python",
     "metadata": {},
     "outputs": [],
     "prompt_number": 11
    },
    {
     "cell_type": "code",
     "collapsed": false,
     "input": [
      "total.columns"
     ],
     "language": "python",
     "metadata": {},
     "outputs": [
      {
       "metadata": {},
       "output_type": "pyout",
       "prompt_number": 12,
       "text": [
        "Index([u'id_x', u'email', u'user_id', u'contextio_id', u'created_x', u'status', u'retries', u'delete', u'email_json', u'birthdate', u'gender', u'seasonal_affective_disorder', u'id_y', u'email_id', u'created_y', u'average_email_length_month', u'ngram_frequency_month', u'ngram_frequency_words', u'unique_emails_month', u'pos_count_month', u'pos_count_words', u'analyze_time', u'download_time', u'singular_plural_month', u'singular_plural_words', u'average_email_length_words', u'average_response_time_month', u'bag_of_words', u'bag_of_words_total'], dtype='object')"
       ]
      }
     ],
     "prompt_number": 12
    },
    {
     "cell_type": "code",
     "collapsed": false,
     "input": [
      "total.to_pickle('merged_data.pkl')"
     ],
     "language": "python",
     "metadata": {},
     "outputs": [],
     "prompt_number": 13
    },
    {
     "cell_type": "code",
     "collapsed": false,
     "input": [],
     "language": "python",
     "metadata": {},
     "outputs": []
    }
   ],
   "metadata": {}
  }
 ]
}
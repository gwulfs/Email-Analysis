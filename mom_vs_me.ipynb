{
 "metadata": {
  "name": "",
  "signature": "sha256:f0e8c07f500d24c84030f3d20f6e6f1ec71ea6e881b573f64f0193ec8b788fbf"
 },
 "nbformat": 3,
 "nbformat_minor": 0,
 "worksheets": [
  {
   "cells": [
    {
     "cell_type": "code",
     "collapsed": false,
     "input": [
      "import pandas as pd\n",
      "import numpy as np\n",
      "from sklearn.feature_extraction.text import CountVectorizer\n",
      "from sklearn import cross_validation, naive_bayes\n",
      "gid = pd.read_json('email.json')\n",
      "mom = pd.read_json('mom.json')"
     ],
     "language": "python",
     "metadata": {},
     "outputs": [],
     "prompt_number": 1
    },
    {
     "cell_type": "code",
     "collapsed": false,
     "input": [
      "g_emails = []\n",
      "m_emails = []\n",
      "for email in gid.body:\n",
      "    if email != []:\n",
      "        g_emails.append({'gids': True, 'body': email['content']})\n",
      "for email in mom.body:\n",
      "    if email != []:\n",
      "        m_emails.append({'gids': False, 'body': email['content']})\n",
      "df = pd.DataFrame.from_records(g_emails + m_emails)"
     ],
     "language": "python",
     "metadata": {},
     "outputs": [],
     "prompt_number": 2
    },
    {
     "cell_type": "code",
     "collapsed": false,
     "input": [
      "df.head()"
     ],
     "language": "python",
     "metadata": {},
     "outputs": [
      {
       "html": [
        "<div style=\"max-height:1000px;max-width:1500px;overflow:auto;\">\n",
        "<table border=\"1\" class=\"dataframe\">\n",
        "  <thead>\n",
        "    <tr style=\"text-align: right;\">\n",
        "      <th></th>\n",
        "      <th>body</th>\n",
        "      <th>gids</th>\n",
        "    </tr>\n",
        "  </thead>\n",
        "  <tbody>\n",
        "    <tr>\n",
        "      <th>0</th>\n",
        "      <td>                                         Graph\\r\\n</td>\n",
        "      <td> True</td>\n",
        "    </tr>\n",
        "    <tr>\n",
        "      <th>1</th>\n",
        "      <td> Hey Jamie,\\r\\nI really appreciate your call. S...</td>\n",
        "      <td> True</td>\n",
        "    </tr>\n",
        "    <tr>\n",
        "      <th>2</th>\n",
        "      <td> \\r\\n\\r\\nSent from my iPhone\\r\\n\\r\\nBegin forwa...</td>\n",
        "      <td> True</td>\n",
        "    </tr>\n",
        "    <tr>\n",
        "      <th>3</th>\n",
        "      <td> Hey Jonah,\\r\\nI think we should change our sur...</td>\n",
        "      <td> True</td>\n",
        "    </tr>\n",
        "    <tr>\n",
        "      <th>4</th>\n",
        "      <td> \\r\\n\\r\\nSent from my iPhone\\r\\n\\r\\nBegin forwa...</td>\n",
        "      <td> True</td>\n",
        "    </tr>\n",
        "  </tbody>\n",
        "</table>\n",
        "</div>"
       ],
       "metadata": {},
       "output_type": "pyout",
       "prompt_number": 3,
       "text": [
        "                                                body  gids\n",
        "0                                          Graph\\r\\n  True\n",
        "1  Hey Jamie,\\r\\nI really appreciate your call. S...  True\n",
        "2  \\r\\n\\r\\nSent from my iPhone\\r\\n\\r\\nBegin forwa...  True\n",
        "3  Hey Jonah,\\r\\nI think we should change our sur...  True\n",
        "4  \\r\\n\\r\\nSent from my iPhone\\r\\n\\r\\nBegin forwa...  True"
       ]
      }
     ],
     "prompt_number": 3
    },
    {
     "cell_type": "code",
     "collapsed": false,
     "input": [
      "vectorizer = CountVectorizer(min_df=5, max_df=.3, ngram_range=(1,2))\n",
      "X = vectorizer.fit_transform(df.body)\n",
      "X = X.tocsc()\n",
      "Y = df.gids.values.astype(np.int)"
     ],
     "language": "python",
     "metadata": {},
     "outputs": [],
     "prompt_number": 5
    },
    {
     "cell_type": "code",
     "collapsed": false,
     "input": [
      "X_train, X_test, Y_train, Y_test = cross_validation.train_test_split(X,Y)"
     ],
     "language": "python",
     "metadata": {},
     "outputs": [],
     "prompt_number": 6
    },
    {
     "cell_type": "code",
     "collapsed": false,
     "input": [
      "clf = naive_bayes.MultinomialNB(fit_prior=False, alpha=0.5)\n",
      "clf.fit(X_train, Y_train)\n",
      "print \"Accuracy: %0.2f%%\" % (100 * clf.score(X_test, Y_test))"
     ],
     "language": "python",
     "metadata": {},
     "outputs": [
      {
       "output_type": "stream",
       "stream": "stdout",
       "text": [
        "Accuracy: 91.34%\n"
       ]
      }
     ],
     "prompt_number": 7
    },
    {
     "cell_type": "code",
     "collapsed": false,
     "input": [
      "words = np.array(vectorizer.get_feature_names())\n",
      "\n",
      "x = np.eye(X_test.shape[1])\n",
      "probs = clf.predict_log_proba(x)[:, 0]\n",
      "ind = np.argsort(probs)\n",
      "\n",
      "gideon_words = words[ind[:10]]\n",
      "lisa_words = words[ind[-10:]]\n",
      "\n",
      "gideon_prob = probs[ind[:10]]\n",
      "lisa_prob = probs[ind[-10:]]\n",
      "\n",
      "print \"Gideon words\\t P(gids | word)\"\n",
      "for w, p in zip(gideon_words, gideon_prob):\n",
      "    print \"%20s\" % w, \"%0.2f\" % (1 - np.exp(p))\n",
      "    \n",
      "print \"\\nMom words\\t P(mom | word)\"\n",
      "for w, p in zip(lisa_words, lisa_prob):\n",
      "    print \"%20s\" % w, \"%0.2f\" % (1 - np.exp(p))"
     ],
     "language": "python",
     "metadata": {},
     "outputs": [
      {
       "output_type": "stream",
       "stream": "stdout",
       "text": [
        "Gideon words\t P(gids | word)\n",
        "         best gideon 1.00\n",
        "           katherine 1.00\n",
        "       cheers gideon 1.00\n",
        "                elan 1.00\n",
        "             svajian 1.00\n",
        "           gideon on 1.00\n",
        "             2013 at 1.00\n",
        "                arda 1.00\n",
        "            getfresh 1.00\n",
        "         insidesales 1.00\n",
        "\n",
        "Mom words\t P(mom | word)\n",
        " barenecessities com 0.00\n",
        "     barenecessities 0.00\n",
        "  emails footwearetc 0.00\n",
        "        click emails 0.00\n",
        "         footwearetc 0.00\n",
        "     footwearetc com 0.00\n",
        "     email lwulfsohn 0.00\n",
        "              com qs 0.00\n",
        "          http click 0.00\n",
        "                  qs 0.00\n"
       ]
      }
     ],
     "prompt_number": 8
    }
   ],
   "metadata": {}
  }
 ]
}